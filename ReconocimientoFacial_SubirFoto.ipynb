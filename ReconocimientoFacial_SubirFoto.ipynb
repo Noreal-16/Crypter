{
  "nbformat": 4,
  "nbformat_minor": 0,
  "metadata": {
    "colab": {
      "name": "Copia de ReconocimientoFacial_SubirFoto.ipynb",
      "private_outputs": true,
      "provenance": [],
      "include_colab_link": true
    },
    "kernelspec": {
      "name": "python3",
      "display_name": "Python 3"
    },
    "language_info": {
      "name": "python"
    },
    "accelerator": "GPU"
  },
  "cells": [
    {
      "cell_type": "markdown",
      "metadata": {
        "id": "view-in-github",
        "colab_type": "text"
      },
      "source": [
        "<a href=\"https://colab.research.google.com/github/Noreal-16/Crypter/blob/master/ReconocimientoFacial_SubirFoto.ipynb\" target=\"_parent\"><img src=\"https://colab.research.google.com/assets/colab-badge.svg\" alt=\"Open In Colab\"/></a>"
      ]
    },
    {
      "cell_type": "markdown",
      "metadata": {
        "id": "_pBxznvVj2yl"
      },
      "source": [
        "Instalamos la libreria Face_recognition"
      ]
    },
    {
      "cell_type": "code",
      "metadata": {
        "id": "MulZ_OZ4Vdmf"
      },
      "source": [
        "pip install face-recognition\n"
      ],
      "execution_count": null,
      "outputs": []
    },
    {
      "cell_type": "markdown",
      "metadata": {
        "id": "ECy0tItEj83c"
      },
      "source": [
        "importamos las librerias"
      ]
    },
    {
      "cell_type": "code",
      "metadata": {
        "id": "KP35wgI9V4CG"
      },
      "source": [
        "from IPython.display import display, Javascript, Image\n",
        "from google.colab.output import eval_js\n",
        "from base64 import b64decode, b64encode\n",
        "import cv2\n",
        "import numpy as np\n",
        "import PIL\n",
        "import io\n",
        "import html\n",
        "import time\n",
        "import face_recognition"
      ],
      "execution_count": null,
      "outputs": []
    },
    {
      "cell_type": "code",
      "metadata": {
        "id": "lR8nm-MLZ5AE"
      },
      "source": [
        "from google.colab import drive\n",
        "drive.mount('/content/drive')"
      ],
      "execution_count": null,
      "outputs": []
    },
    {
      "cell_type": "markdown",
      "metadata": {
        "id": "oFRLH6Nlj_Ri"
      },
      "source": [
        "Funcion para convertir un Objeto de JavaScript en una imagen en Opencv"
      ]
    },
    {
      "cell_type": "code",
      "metadata": {
        "id": "j-8njdc_WnJ4"
      },
      "source": [
        "# function \n",
        "def js_to_image(js_reply):\n",
        "  \"\"\"\n",
        "  Params:\n",
        "          js_reply: JavaScript object containing image from webcam\n",
        "  Returns:\n",
        "          img: OpenCV BGR image\n",
        "  \"\"\"\n",
        "  # decode base64 image\n",
        "  image_bytes = b64decode(js_reply.split(',')[1])\n",
        "  # convert bytes to numpy array\n",
        "  jpg_as_np = np.frombuffer(image_bytes, dtype=np.uint8)\n",
        "  # decode numpy array into OpenCV BGR image\n",
        "  img = cv2.imdecode(jpg_as_np, flags=1)\n",
        "\n",
        "  return img\n",
        "\n",
        "# function to convert OpenCV Rectangle bounding box image into base64 byte string to be overlayed on video stream\n",
        "def bbox_to_bytes(bbox_array):\n",
        "  \"\"\"\n",
        "  Params:\n",
        "          bbox_array: Numpy array (pixels) containing rectangle to overlay on video stream.\n",
        "  Returns:\n",
        "        bytes: Base64 image byte string\n",
        "  \"\"\"\n",
        "  # convert array into PIL image\n",
        "  bbox_PIL = PIL.Image.fromarray(bbox_array, 'RGBA')\n",
        "  iobuf = io.BytesIO()\n",
        "  # format bbox into png for return\n",
        "  bbox_PIL.save(iobuf, format='png')\n",
        "  # format return string\n",
        "  bbox_bytes = 'data:image/png;base64,{}'.format((str(b64encode(iobuf.getvalue()), 'utf-8')))\n",
        "  return bbox_bytes"
      ],
      "execution_count": null,
      "outputs": []
    },
    {
      "cell_type": "markdown",
      "metadata": {
        "id": "RSA1TsOPUr4O"
      },
      "source": [
        "HaardCascade"
      ]
    },
    {
      "cell_type": "code",
      "metadata": {
        "id": "NZzJ9vduUow5"
      },
      "source": [
        "# initialize the Haar Cascade face detection model\n",
        "face_cascade = cv2.CascadeClassifier(cv2.samples.findFile(cv2.data.haarcascades + 'haarcascade_frontalface_default.xml'))"
      ],
      "execution_count": null,
      "outputs": []
    },
    {
      "cell_type": "markdown",
      "metadata": {
        "id": "g-xmoOVxVU59"
      },
      "source": [
        "JS Video"
      ]
    },
    {
      "cell_type": "code",
      "metadata": {
        "id": "lbRI5DXtVSX3"
      },
      "source": [
        "# JavaScript para crear correctamente nuestro flujo de vídeo en directo utilizando nuestra cámara web como entrada\n",
        "def video_stream():\n",
        "  js = Javascript('''\n",
        "    var video;\n",
        "    var div = null;\n",
        "    var stream;\n",
        "    var captureCanvas;\n",
        "    var imgElement;\n",
        "    var labelElement;\n",
        "    \n",
        "    var pendingResolve = null;\n",
        "    var shutdown = false;\n",
        "    \n",
        "    function removeDom() {\n",
        "       stream.getVideoTracks()[0].stop();\n",
        "       video.remove();\n",
        "       div.remove();\n",
        "       video = null;\n",
        "       div = null;\n",
        "       stream = null;\n",
        "       imgElement = null;\n",
        "       captureCanvas = null;\n",
        "       labelElement = null;\n",
        "    }\n",
        "    \n",
        "    function onAnimationFrame() {\n",
        "      if (!shutdown) {\n",
        "        window.requestAnimationFrame(onAnimationFrame);\n",
        "      }\n",
        "      if (pendingResolve) {\n",
        "        var result = \"\";\n",
        "        if (!shutdown) {\n",
        "          captureCanvas.getContext('2d').drawImage(video, 0, 0, 640, 480);\n",
        "          result = captureCanvas.toDataURL('image/jpeg', 0.8)\n",
        "        }\n",
        "        var lp = pendingResolve;\n",
        "        pendingResolve = null;\n",
        "        lp(result);\n",
        "      }\n",
        "    }\n",
        "    \n",
        "    async function createDom() {\n",
        "      if (div !== null) {\n",
        "        return stream;\n",
        "      }\n",
        "\n",
        "      div = document.createElement('div');\n",
        "      div.style.border = '2px solid black';\n",
        "      div.style.padding = '3px';\n",
        "      div.style.width = '100%';\n",
        "      div.style.maxWidth = '600px';\n",
        "      document.body.appendChild(div);\n",
        "      \n",
        "      const modelOut = document.createElement('div');\n",
        "      modelOut.innerHTML = \"<span>Estado:</span>\";\n",
        "      labelElement = document.createElement('span');\n",
        "      labelElement.innerText = 'No data';\n",
        "      labelElement.style.fontWeight = 'bold';\n",
        "      modelOut.appendChild(labelElement);\n",
        "      div.appendChild(modelOut);\n",
        "           \n",
        "      video = document.createElement('video');\n",
        "      video.style.display = 'block';\n",
        "      video.width = div.clientWidth - 6;\n",
        "      video.setAttribute('playsinline', '');\n",
        "      video.onclick = () => { shutdown = true; };\n",
        "      stream = await navigator.mediaDevices.getUserMedia(\n",
        "          {video: { facingMode: \"environment\"}});\n",
        "      div.appendChild(video);\n",
        "\n",
        "      imgElement = document.createElement('img');\n",
        "      imgElement.style.position = 'absolute';\n",
        "      imgElement.style.zIndex = 1;\n",
        "      imgElement.onclick = () => { shutdown = true; };\n",
        "      div.appendChild(imgElement);\n",
        "      \n",
        "      const instruction = document.createElement('div');\n",
        "      instruction.innerHTML = \n",
        "          '<span style=\"color: red; font-weight: bold;\">' +\n",
        "          'Cuando haya terminado, haga clic aquí o en el vídeo para detener esta demostración</span>';\n",
        "      div.appendChild(instruction);\n",
        "      instruction.onclick = () => { shutdown = true; };\n",
        "      \n",
        "      video.srcObject = stream;\n",
        "      await video.play();\n",
        "\n",
        "      captureCanvas = document.createElement('canvas');\n",
        "      captureCanvas.width = 640; //video.videoWidth;\n",
        "      captureCanvas.height = 480; //video.videoHeight;\n",
        "      window.requestAnimationFrame(onAnimationFrame);\n",
        "      \n",
        "      return stream;\n",
        "    }\n",
        "    async function stream_frame(label, imgData) {\n",
        "      if (shutdown) {\n",
        "        removeDom();\n",
        "        shutdown = false;\n",
        "        return '';\n",
        "      }\n",
        "\n",
        "      var preCreate = Date.now();\n",
        "      stream = await createDom();\n",
        "      \n",
        "      var preShow = Date.now();\n",
        "      if (label != \"\") {\n",
        "        labelElement.innerHTML = label;\n",
        "      }\n",
        "            \n",
        "      if (imgData != \"\") {\n",
        "        var videoRect = video.getClientRects()[0];\n",
        "        imgElement.style.top = videoRect.top + \"px\";\n",
        "        imgElement.style.left = videoRect.left + \"px\";\n",
        "        imgElement.style.width = videoRect.width + \"px\";\n",
        "        imgElement.style.height = videoRect.height + \"px\";\n",
        "        imgElement.src = imgData;\n",
        "      }\n",
        "      \n",
        "      var preCapture = Date.now();\n",
        "      var result = await new Promise(function(resolve, reject) {\n",
        "        pendingResolve = resolve;\n",
        "      });\n",
        "      shutdown = false;\n",
        "      \n",
        "      return {'create': preShow - preCreate, \n",
        "              'show': preCapture - preShow, \n",
        "              'capture': Date.now() - preCapture,\n",
        "              'img': result};\n",
        "    }\n",
        "    ''')\n",
        "\n",
        "  display(js)\n",
        "  \n",
        "def video_frame(label, bbox):\n",
        "  data = eval_js('stream_frame(\"{}\", \"{}\")'.format(label, bbox))\n",
        "  return data"
      ],
      "execution_count": null,
      "outputs": []
    },
    {
      "cell_type": "code",
      "metadata": {
        "id": "cRaQOlY0VknV"
      },
      "source": [
        "# iniciar la transmisión de vídeo desde la cámara web\n",
        "video_stream()\n",
        "# etiqueta para el vídeo\n",
        "label_html = 'Capturando...'\n",
        "# inicializar el cuadro delimitador para que esté vacío\n",
        "bbox = ''\n",
        "count = 0 \n",
        "\n",
        "while True:\n",
        "    js_reply = video_frame(label_html, bbox)\n",
        "    if not js_reply:\n",
        "        break\n",
        "\n",
        "    # convertir la respuesta JS en imagen OpenCV\n",
        "    img = js_to_image(js_reply[\"img\"])\n",
        "\n",
        "    # crear una superposición transparente para el cuadro delimitador\n",
        "    bbox_array = np.zeros([480,640,4], dtype=np.uint8)\n",
        "\n",
        "    # imagen en escala de grises para la detección de rostros\n",
        "    gray = cv2.cvtColor(img, cv2.COLOR_RGB2GRAY)\n",
        "\n",
        "    # obtener las coordenadas de la región de la cara\n",
        "    #faces = face_cascade.detectMultiScale(gray)\n",
        "\n",
        "    # Load a sample picture and learn how to recognize it.\n",
        "    obama_image = face_recognition.load_image_file(\"/content/obama.jpg\")\n",
        "    obama_face_encoding = face_recognition.face_encodings(obama_image)[0]\n",
        "\n",
        "    biden_image = face_recognition.load_image_file(\"/content/biden.jpeg\")\n",
        "    biden_face_encoding = face_recognition.face_encodings(biden_image)[0]\n",
        "    \n",
        "    santiago_image = face_recognition.load_image_file(\"/content/santiago.jpeg\")\n",
        "    santiago_face_encoding = face_recognition.face_encodings(santiago_image)[0]\n",
        "    \n",
        "    \n",
        "\n",
        "    # Create arrays of known face encodings and their names\n",
        "    known_face_encodings = [\n",
        "        obama_face_encoding,\n",
        "        biden_face_encoding,\n",
        "        santiago_face_encoding\n",
        "    ]\n",
        "    known_face_names = [\n",
        "        \"Barack Obama\",\n",
        "        \"Joe Biden\",\n",
        "        \"santiago\"\n",
        "    ]\n",
        "    # Initialize some variables\n",
        "    face_locations = []\n",
        "    face_encodings = []\n",
        "    face_names = []\n",
        "    process_this_frame = True\n",
        "    small_frame = cv2.resize(img, (0, 0), fx=0.25, fy=0.25)\n",
        "    rgb_small_frame = small_frame[:, :, ::-1]\n",
        "\n",
        "    if process_this_frame:\n",
        "      # Find all the faces and face encodings in the current frame of video\n",
        "      face_locations = face_recognition.face_locations(rgb_small_frame)\n",
        "      face_encodings = face_recognition.face_encodings(rgb_small_frame, face_locations)\n",
        "\n",
        "      face_names = []\n",
        "      for face_encoding in face_encodings:\n",
        "        # See if the face is a match for the known face(s)\n",
        "        matches = face_recognition.compare_faces(known_face_encodings, face_encoding)\n",
        "        name = \"Desconocido\"\n",
        "\n",
        "        face_distances = face_recognition.face_distance(known_face_encodings, face_encoding)\n",
        "        best_match_index = np.argmin(face_distances)\n",
        "        if matches[best_match_index]:\n",
        "          name = known_face_names[best_match_index]\n",
        "\n",
        "        face_names.append(name)\n",
        "\n",
        "    process_this_frame = not process_this_frame\n",
        "\n",
        "    # Display the results\n",
        "    for (top, right, bottom, left), name in zip(face_locations, face_names):\n",
        "      # Scale back up face locations since the frame we detected in was scaled to 1/4 size\n",
        "      top *= 4\n",
        "      right *= 4\n",
        "      bottom *= 4\n",
        "      left *= 4\n",
        "\n",
        "      bbox_array = cv2.rectangle(bbox_array,(left, top),(right, bottom),(0,0,255),2)\n",
        "\n",
        "      cv2.rectangle(bbox_array, (left, bottom - 35), (right, bottom), (0, 0, 255), cv2.FILLED)\n",
        "      font = cv2.FONT_HERSHEY_DUPLEX\n",
        "      cv2.putText(bbox_array, name, (left + 6, bottom - 6), font, 1.0, (255, 255, 255), 1)\n",
        "\n",
        "    bbox_array[:,:,3] = (bbox_array.max(axis = 2) > 0 ).astype(int) * 255\n",
        "    # convertir la superposición de bbox en bytes\n",
        "    bbox_bytes = bbox_to_bytes(bbox_array)\n",
        "    # actualizar bbox para que el siguiente cuadro tenga una nueva superposición\n",
        "    bbox = bbox_bytes\n",
        "\n",
        "\n",
        "   "
      ],
      "execution_count": null,
      "outputs": []
    },
    {
      "cell_type": "markdown",
      "metadata": {
        "id": "w83-OZBgkCHz"
      },
      "source": [
        "Cargamos las fotos para que aprenda a reconocerla"
      ]
    },
    {
      "cell_type": "code",
      "metadata": {
        "id": "B77wAbxiYyVm"
      },
      "source": [
        "yil_image = face_recognition.load_image_file(\"/content/sample_data/bicho.jpg\")\n",
        "yil_face_encoding = face_recognition.face_encodings(yil_image)[0]\n",
        "\n",
        "biden_image = face_recognition.load_image_file(\"/content/sample_data/alexis.jpg\")\n",
        "biden_face_encoding = face_recognition.face_encodings(biden_image)[0]\n",
        "\n",
        "known_face_encodings = [\n",
        "    yil_face_encoding,\n",
        "    biden_face_encoding\n",
        "]\n",
        "known_face_names = [\n",
        "    \"CR7\",\n",
        "    \"yo\"\n",
        "]\n"
      ],
      "execution_count": null,
      "outputs": []
    },
    {
      "cell_type": "code",
      "metadata": {
        "id": "UKdhEPOVanrY"
      },
      "source": [
        "def take_photo(filename='photo.jpg', quality=0.8):\n",
        "  js = Javascript('''\n",
        "    async function takePhoto(quality) {\n",
        "      const div = document.createElement('div');\n",
        "      const capture = document.createElement('button');\n",
        "      capture.textContent = 'Capture';\n",
        "      div.appendChild(capture);\n",
        "\n",
        "      const video = document.createElement('video');\n",
        "      video.style.display = 'block';\n",
        "      const stream = await navigator.mediaDevices.getUserMedia({video: true});\n",
        "\n",
        "      document.body.appendChild(div);\n",
        "      div.appendChild(video);\n",
        "      video.srcObject = stream;\n",
        "      await video.play();\n",
        "\n",
        "      // Resize the output to fit the video element.\n",
        "      google.colab.output.setIframeHeight(document.documentElement.scrollHeight, true);\n",
        "\n",
        "      // Wait for Capture to be clicked.\n",
        "      await new Promise((resolve) => capture.onclick = resolve);\n",
        "\n",
        "      const canvas = document.createElement('canvas');\n",
        "      canvas.width = video.videoWidth;\n",
        "      canvas.height = video.videoHeight;\n",
        "      canvas.getContext('2d').drawImage(video, 0, 0);\n",
        "      stream.getVideoTracks()[0].stop();\n",
        "      div.remove();\n",
        "      return canvas.toDataURL('image/jpeg', quality);\n",
        "    }\n",
        "    ''')\n",
        "  display(js)\n",
        "\n",
        "  # get photo data\n",
        "  data = eval_js('takePhoto({})'.format(quality))\n",
        "  # get OpenCV format image\n",
        "  img = js_to_image(data) \n",
        "  # \n",
        "  #\n",
        "  #\n",
        "  face_locations = face_recognition.face_locations(img)\n",
        "  face_encodings = face_recognition.face_encodings(img, face_locations)\n",
        "  # \n",
        "  #\n",
        "  for (top, right, bottom, left), face_encoding in zip(face_locations, face_encodings):\n",
        "    matches = face_recognition.compare_faces(known_face_encodings, face_encoding)\n",
        "    name = \"Desconocido\"\n",
        "    face_distances = face_recognition.face_distance(known_face_encodings, face_encoding)\n",
        "    best_match_index = np.argmin(face_distances)\n",
        "    if matches[best_match_index]:\n",
        "      name = known_face_names[best_match_index]\n",
        "    cv2.rectangle(img, (left, top), (right, bottom), (0, 0, 255), 2)\n",
        "    cv2.rectangle(img, (left, bottom - 35), (right, bottom), (0, 0, 255), cv2.FILLED)\n",
        "    font = cv2.FONT_HERSHEY_DUPLEX\n",
        "    cv2.putText(img, name, (left + 6, bottom - 6), font, 1.0, (255, 255, 255), 1)\n",
        "  # draw face bounding box on image\n",
        "  #for (x,y,w,h) in faces:\n",
        "      #img = cv2.rectangle(img,(x,y),(x+w,y+h),(255,0,0),2)\n",
        "  # save image\n",
        "  cv2.imwrite(filename, img)\n",
        "\n",
        "  return filename"
      ],
      "execution_count": null,
      "outputs": []
    },
    {
      "cell_type": "markdown",
      "metadata": {
        "id": "JGs2M7IdkGUa"
      },
      "source": [
        ""
      ]
    },
    {
      "cell_type": "code",
      "metadata": {
        "id": "z1Em6G6OjSsc"
      },
      "source": [
        "try:\n",
        "  filename = take_photo('photo.jpg')\n",
        "  print('Saved to {}'.format(filename))\n",
        "  \n",
        "  # Show the image which was just taken.\n",
        "  display(Image(filename))\n",
        "except Exception as err:\n",
        "  # Errors will be thrown if the user does not have a webcam or if they do not\n",
        "  # grant the page permission to access it.\n",
        "  print(str(err))"
      ],
      "execution_count": null,
      "outputs": []
    }
  ]
}